{
 "cells": [
  {
   "cell_type": "markdown",
   "metadata": {},
   "source": [
    "# Give Me Some Credit"
   ]
  },
  {
   "cell_type": "code",
   "execution_count": 223,
   "metadata": {},
   "outputs": [],
   "source": [
    "import time\n",
    "\n",
    "import pandas as pd\n",
    "import numpy as np\n",
    "import matplotlib.pyplot as plt\n",
    "import seaborn as sns\n",
    "\n",
    "from scipy.stats import pointbiserialr\n",
    "\n",
    "from sklearn.impute import SimpleImputer\n",
    "from sklearn.metrics import roc_auc_score, mean_squared_error\n",
    "from sklearn.model_selection import train_test_split\n",
    "\n",
    "from sklearn.linear_model import LogisticRegression\n",
    "from sklearn.tree import DecisionTreeClassifier\n",
    "from sklearn.ensemble import RandomForestClassifier, RandomForestRegressor\n",
    "from lightgbm import LGBMClassifier\n",
    "from xgboost import XGBClassifier\n",
    "\n",
    "from typing import List\n",
    "from IPython.display import display\n",
    "\n",
    "from src.constants import TRAIN_DATA_PATH, TEST_DATA_PATH, LABEL_COL, FEATURES_COL_LIST, RANDOM_SEED, VAL_SIZE\n",
    "\n",
    "np.random.seed(RANDOM_SEED)"
   ]
  },
  {
   "cell_type": "code",
   "execution_count": 224,
   "metadata": {},
   "outputs": [],
   "source": [
    "def get_biserial_correlation_stats(\n",
    "    train_df: pd.DataFrame,\n",
    "    label_col: str,\n",
    "    feature_col_list: List[str],\n",
    "    should_plot: bool = True,\n",
    ")->pd.DataFrame:\n",
    "\n",
    "    biserial_corr_dict = {\n",
    "        \"feature\" : [],\n",
    "        \"biserial_correlation\" : [],\n",
    "    }\n",
    "\n",
    "    corr_df = train_df.copy(deep=True).dropna()\n",
    "\n",
    "    for feat in feature_col_list:\n",
    "        corr = pointbiserialr(corr_df[label_col], corr_df[feat])\n",
    "        biserial_corr_dict[\"feature\"].append(feat)\n",
    "        biserial_corr_dict[\"biserial_correlation\"].append(corr.correlation)\n",
    "\n",
    "    biserial_corr_df = pd.DataFrame(biserial_corr_dict)\n",
    "\n",
    "    if should_plot:\n",
    "        plt.figure()\n",
    "        plt.title(f\"Biserial Correlation of Features vs {LABEL_COL}\", fontsize=14)\n",
    "        sns.barplot(y=\"feature\", x=\"biserial_correlation\", data=biserial_corr_df.sort_values(by=[\"biserial_correlation\"]), color=\"tab:red\")\n",
    "        plt.show()\n",
    "\n",
    "    return biserial_corr_df\n",
    "\n",
    "def get_correlation_df(\n",
    "    train_df, \n",
    "    label_col: str,\n",
    "    feature_col_list: List[str],\n",
    "    should_plot: bool = True,\n",
    ")->pd.DataFrame:\n",
    "    \n",
    "    corr_df = train_df[[label_col] + feature_col_list].corr()\n",
    "\n",
    "    if should_plot:\n",
    "        plt.figure()\n",
    "        plt.title(\"Correlation Heatmap\", fontsize=14)\n",
    "        sns.heatmap(corr_df)\n",
    "        plt.show()\n",
    "\n",
    "    return corr_df \n",
    "\n",
    "def get_base_rf_auc_feature_importance(\n",
    "    train_df: pd.DataFrame,\n",
    "    label_col: str,\n",
    "    feature_col_list: List[str],\n",
    "    random_seed: int = RANDOM_SEED,\n",
    "    val_size: float = VAL_SIZE,\n",
    "):\n",
    "    fit_df = train_df.copy(deep=True).dropna()\n",
    "\n",
    "    X = fit_df[feature_col_list]\n",
    "    y = fit_df[label_col]\n",
    "\n",
    "    X_train, X_val, y_train, y_val = train_test_split(X, y, random_state=random_seed, test_size=val_size)\n",
    "\n",
    "    prelim_clf = RandomForestClassifier(max_depth=10)\n",
    "    prelim_clf.fit(\n",
    "        X=X_train,\n",
    "        y=y_train,\n",
    "    )\n",
    "\n",
    "    prelim_train_pred = prelim_clf.predict_proba(X_train)\n",
    "    prelim_val_pred = prelim_clf.predict_proba(X_val)\n",
    "    prelim_train_roc_auc = roc_auc_score(y_true=y_train, y_score=prelim_train_pred[:, 1])\n",
    "    prelim_val_roc_auc = roc_auc_score(y_true=y_val, y_score=prelim_val_pred[:, 1])\n",
    "\n",
    "    ft_importance_df = pd.DataFrame({\n",
    "        \"feature\" : feature_col_list,\n",
    "        \"rf_feature_importance\" : prelim_clf.feature_importances_,\n",
    "    }).sort_values(by=\"rf_feature_importance\", ascending=False)\n",
    "\n",
    "    return prelim_clf, prelim_train_roc_auc, prelim_val_roc_auc, ft_importance_df\n",
    "\n",
    "\n",
    "def get_cap_dict(\n",
    "    train_df: pd.DataFrame,\n",
    "    ratio_cols: List[str],\n",
    "    non_ratio_cols: List[str],\n",
    "    percentile_for_cap: float = 99.0\n",
    ")->dict:\n",
    "    cap_dict = {}\n",
    "\n",
    "    for col in ratio_cols:\n",
    "        cap_dict[col] = 1.0\n",
    "    \n",
    "    for col in non_ratio_cols:\n",
    "        cap = np.nanpercentile(train_df[col], percentile_for_cap)\n",
    "        cap_dict[col] = cap\n",
    "    \n",
    "    return cap_dict\n",
    "\n",
    "\n",
    "def get_capped_df(\n",
    "    df: pd.DataFrame,\n",
    "    cap_dict: dict,\n",
    ")->pd.DataFrame:\n",
    "    capped_df = df.copy(deep=True)\n",
    "\n",
    "    for col, cap in cap_dict.items():\n",
    "        capped_df[col] = np.where(capped_df[col] > cap, cap, capped_df[col])\n",
    "    \n",
    "    return capped_df"
   ]
  },
  {
   "cell_type": "code",
   "execution_count": 225,
   "metadata": {},
   "outputs": [],
   "source": [
    "train_df = pd.read_csv(TRAIN_DATA_PATH).rename(columns={\n",
    "    \"Unnamed: 0\" : \"id\"\n",
    "})\n",
    "\n",
    "train_df.index = train_df.index.astype(np.int32)\n",
    "\n",
    "test_df = pd.read_csv(TEST_DATA_PATH).rename(columns={\n",
    "    \"Unnamed: 0\" : \"id\"\n",
    "})\n",
    "\n",
    "test_df.index = test_df.index.astype(np.int32)"
   ]
  },
  {
   "cell_type": "markdown",
   "metadata": {},
   "source": [
    "### Ratio of Positive Class in the Training Set\n",
    "\n",
    "Inspection of the label column reveals that there are only `6.68%` of the positive class, indicating a class imbalance in the dataset. We might need to deal with this during the model fitting then."
   ]
  },
  {
   "cell_type": "code",
   "execution_count": 226,
   "metadata": {},
   "outputs": [
    {
     "name": "stdout",
     "output_type": "stream",
     "text": [
      "There are 6.68 % positive classes in the training data\n"
     ]
    }
   ],
   "source": [
    "print(f\"There are {train_df[LABEL_COL].mean() * 100:.2f} % positive classes in the training data\")"
   ]
  },
  {
   "cell_type": "markdown",
   "metadata": {},
   "source": [
    "### Data types of the target and variables\n",
    "\n",
    "From inspecting the data types, we can see that all the features are numerical (no `object` dtypes). Most likely, there will not be any categorical encoding needed."
   ]
  },
  {
   "cell_type": "code",
   "execution_count": 227,
   "metadata": {},
   "outputs": [
    {
     "data": {
      "text/plain": [
       "id                                        int64\n",
       "SeriousDlqin2yrs                          int64\n",
       "RevolvingUtilizationOfUnsecuredLines    float64\n",
       "age                                       int64\n",
       "NumberOfTime30-59DaysPastDueNotWorse      int64\n",
       "DebtRatio                               float64\n",
       "MonthlyIncome                           float64\n",
       "NumberOfOpenCreditLinesAndLoans           int64\n",
       "NumberOfTimes90DaysLate                   int64\n",
       "NumberRealEstateLoansOrLines              int64\n",
       "NumberOfTime60-89DaysPastDueNotWorse      int64\n",
       "NumberOfDependents                      float64\n",
       "dtype: object"
      ]
     },
     "metadata": {},
     "output_type": "display_data"
    }
   ],
   "source": [
    "display(train_df.dtypes)"
   ]
  },
  {
   "cell_type": "markdown",
   "metadata": {},
   "source": [
    "### Inspecting NULL values\n",
    "\n",
    "Next, we inspect the `NULL` values that are present in the training data.\n",
    "\n",
    "We can see that only `MonthlyIncome` and `NumberOfDependents` have `NULL` values.\n",
    "\n",
    "We will need to devise imputation strategies for these two columns."
   ]
  },
  {
   "cell_type": "code",
   "execution_count": 228,
   "metadata": {},
   "outputs": [
    {
     "data": {
      "text/plain": [
       "id                                          0\n",
       "SeriousDlqin2yrs                            0\n",
       "RevolvingUtilizationOfUnsecuredLines        0\n",
       "age                                         0\n",
       "NumberOfTime30-59DaysPastDueNotWorse        0\n",
       "DebtRatio                                   0\n",
       "MonthlyIncome                           29731\n",
       "NumberOfOpenCreditLinesAndLoans             0\n",
       "NumberOfTimes90DaysLate                     0\n",
       "NumberRealEstateLoansOrLines                0\n",
       "NumberOfTime60-89DaysPastDueNotWorse        0\n",
       "NumberOfDependents                       3924\n",
       "dtype: int64"
      ]
     },
     "metadata": {},
     "output_type": "display_data"
    }
   ],
   "source": [
    "display(train_df.isnull().sum())"
   ]
  },
  {
   "cell_type": "markdown",
   "metadata": {},
   "source": [
    "### Preliminary Summary Statistics\n",
    "\n",
    "Next, we inspect the summary statistics of each of the feature columns. Notable insights:\n",
    "\n",
    "- `DebtRatio`: given the name, the feature should have value ranging from 0 to 1. Yet, the max is `61106.5`. We will cap this feature at `1.0`.\n",
    "- `MonthlyIncome`: the difference between `p75` and `max` value is very large. We might need to inspect the `p98-99` and deal with the outliers accordingly.\n",
    "\n",
    "For the other variables, we will inspect whether it improves preliminary performance of the model fitting if the features are capped at a certain percentile value. Since there are no negative outliers, we can cap only the high outliers."
   ]
  },
  {
   "cell_type": "code",
   "execution_count": 229,
   "metadata": {},
   "outputs": [
    {
     "data": {
      "text/html": [
       "<div>\n",
       "<style scoped>\n",
       "    .dataframe tbody tr th:only-of-type {\n",
       "        vertical-align: middle;\n",
       "    }\n",
       "\n",
       "    .dataframe tbody tr th {\n",
       "        vertical-align: top;\n",
       "    }\n",
       "\n",
       "    .dataframe thead th {\n",
       "        text-align: right;\n",
       "    }\n",
       "</style>\n",
       "<table border=\"1\" class=\"dataframe\">\n",
       "  <thead>\n",
       "    <tr style=\"text-align: right;\">\n",
       "      <th></th>\n",
       "      <th>count</th>\n",
       "      <th>mean</th>\n",
       "      <th>std</th>\n",
       "      <th>min</th>\n",
       "      <th>25%</th>\n",
       "      <th>50%</th>\n",
       "      <th>75%</th>\n",
       "      <th>max</th>\n",
       "    </tr>\n",
       "  </thead>\n",
       "  <tbody>\n",
       "    <tr>\n",
       "      <th>RevolvingUtilizationOfUnsecuredLines</th>\n",
       "      <td>120269.0</td>\n",
       "      <td>5.899873</td>\n",
       "      <td>257.040685</td>\n",
       "      <td>0.0</td>\n",
       "      <td>0.035084</td>\n",
       "      <td>0.177282</td>\n",
       "      <td>0.579428</td>\n",
       "      <td>50708.0</td>\n",
       "    </tr>\n",
       "    <tr>\n",
       "      <th>age</th>\n",
       "      <td>120269.0</td>\n",
       "      <td>51.289792</td>\n",
       "      <td>14.426684</td>\n",
       "      <td>0.0</td>\n",
       "      <td>40.000000</td>\n",
       "      <td>51.000000</td>\n",
       "      <td>61.000000</td>\n",
       "      <td>103.0</td>\n",
       "    </tr>\n",
       "    <tr>\n",
       "      <th>NumberOfTime30-59DaysPastDueNotWorse</th>\n",
       "      <td>120269.0</td>\n",
       "      <td>0.381769</td>\n",
       "      <td>3.499234</td>\n",
       "      <td>0.0</td>\n",
       "      <td>0.000000</td>\n",
       "      <td>0.000000</td>\n",
       "      <td>0.000000</td>\n",
       "      <td>98.0</td>\n",
       "    </tr>\n",
       "    <tr>\n",
       "      <th>DebtRatio</th>\n",
       "      <td>120269.0</td>\n",
       "      <td>26.598777</td>\n",
       "      <td>424.446457</td>\n",
       "      <td>0.0</td>\n",
       "      <td>0.143388</td>\n",
       "      <td>0.296023</td>\n",
       "      <td>0.482559</td>\n",
       "      <td>61106.5</td>\n",
       "    </tr>\n",
       "    <tr>\n",
       "      <th>MonthlyIncome</th>\n",
       "      <td>120269.0</td>\n",
       "      <td>6670.221237</td>\n",
       "      <td>14384.674215</td>\n",
       "      <td>0.0</td>\n",
       "      <td>3400.000000</td>\n",
       "      <td>5400.000000</td>\n",
       "      <td>8249.000000</td>\n",
       "      <td>3008750.0</td>\n",
       "    </tr>\n",
       "    <tr>\n",
       "      <th>NumberOfOpenCreditLinesAndLoans</th>\n",
       "      <td>120269.0</td>\n",
       "      <td>8.758475</td>\n",
       "      <td>5.172835</td>\n",
       "      <td>0.0</td>\n",
       "      <td>5.000000</td>\n",
       "      <td>8.000000</td>\n",
       "      <td>11.000000</td>\n",
       "      <td>58.0</td>\n",
       "    </tr>\n",
       "    <tr>\n",
       "      <th>NumberOfTimes90DaysLate</th>\n",
       "      <td>120269.0</td>\n",
       "      <td>0.211925</td>\n",
       "      <td>3.465276</td>\n",
       "      <td>0.0</td>\n",
       "      <td>0.000000</td>\n",
       "      <td>0.000000</td>\n",
       "      <td>0.000000</td>\n",
       "      <td>98.0</td>\n",
       "    </tr>\n",
       "    <tr>\n",
       "      <th>NumberRealEstateLoansOrLines</th>\n",
       "      <td>120269.0</td>\n",
       "      <td>1.054519</td>\n",
       "      <td>1.149273</td>\n",
       "      <td>0.0</td>\n",
       "      <td>0.000000</td>\n",
       "      <td>1.000000</td>\n",
       "      <td>2.000000</td>\n",
       "      <td>54.0</td>\n",
       "    </tr>\n",
       "    <tr>\n",
       "      <th>NumberOfTime60-89DaysPastDueNotWorse</th>\n",
       "      <td>120269.0</td>\n",
       "      <td>0.187829</td>\n",
       "      <td>3.447901</td>\n",
       "      <td>0.0</td>\n",
       "      <td>0.000000</td>\n",
       "      <td>0.000000</td>\n",
       "      <td>0.000000</td>\n",
       "      <td>98.0</td>\n",
       "    </tr>\n",
       "    <tr>\n",
       "      <th>NumberOfDependents</th>\n",
       "      <td>120269.0</td>\n",
       "      <td>0.851832</td>\n",
       "      <td>1.148391</td>\n",
       "      <td>0.0</td>\n",
       "      <td>0.000000</td>\n",
       "      <td>0.000000</td>\n",
       "      <td>2.000000</td>\n",
       "      <td>20.0</td>\n",
       "    </tr>\n",
       "  </tbody>\n",
       "</table>\n",
       "</div>"
      ],
      "text/plain": [
       "                                         count         mean           std  \\\n",
       "RevolvingUtilizationOfUnsecuredLines  120269.0     5.899873    257.040685   \n",
       "age                                   120269.0    51.289792     14.426684   \n",
       "NumberOfTime30-59DaysPastDueNotWorse  120269.0     0.381769      3.499234   \n",
       "DebtRatio                             120269.0    26.598777    424.446457   \n",
       "MonthlyIncome                         120269.0  6670.221237  14384.674215   \n",
       "NumberOfOpenCreditLinesAndLoans       120269.0     8.758475      5.172835   \n",
       "NumberOfTimes90DaysLate               120269.0     0.211925      3.465276   \n",
       "NumberRealEstateLoansOrLines          120269.0     1.054519      1.149273   \n",
       "NumberOfTime60-89DaysPastDueNotWorse  120269.0     0.187829      3.447901   \n",
       "NumberOfDependents                    120269.0     0.851832      1.148391   \n",
       "\n",
       "                                      min          25%          50%  \\\n",
       "RevolvingUtilizationOfUnsecuredLines  0.0     0.035084     0.177282   \n",
       "age                                   0.0    40.000000    51.000000   \n",
       "NumberOfTime30-59DaysPastDueNotWorse  0.0     0.000000     0.000000   \n",
       "DebtRatio                             0.0     0.143388     0.296023   \n",
       "MonthlyIncome                         0.0  3400.000000  5400.000000   \n",
       "NumberOfOpenCreditLinesAndLoans       0.0     5.000000     8.000000   \n",
       "NumberOfTimes90DaysLate               0.0     0.000000     0.000000   \n",
       "NumberRealEstateLoansOrLines          0.0     0.000000     1.000000   \n",
       "NumberOfTime60-89DaysPastDueNotWorse  0.0     0.000000     0.000000   \n",
       "NumberOfDependents                    0.0     0.000000     0.000000   \n",
       "\n",
       "                                              75%        max  \n",
       "RevolvingUtilizationOfUnsecuredLines     0.579428    50708.0  \n",
       "age                                     61.000000      103.0  \n",
       "NumberOfTime30-59DaysPastDueNotWorse     0.000000       98.0  \n",
       "DebtRatio                                0.482559    61106.5  \n",
       "MonthlyIncome                         8249.000000  3008750.0  \n",
       "NumberOfOpenCreditLinesAndLoans         11.000000       58.0  \n",
       "NumberOfTimes90DaysLate                  0.000000       98.0  \n",
       "NumberRealEstateLoansOrLines             2.000000       54.0  \n",
       "NumberOfTime60-89DaysPastDueNotWorse     0.000000       98.0  \n",
       "NumberOfDependents                       2.000000       20.0  "
      ]
     },
     "metadata": {},
     "output_type": "display_data"
    }
   ],
   "source": [
    "display(train_df.dropna()[FEATURES_COL_LIST].describe().T)"
   ]
  },
  {
   "cell_type": "markdown",
   "metadata": {},
   "source": [
    "### Preliminary model fitting asssessment\n",
    "\n",
    "Before we decide to impute and cap, hence \"hand-engineering\" the features, we should get a baseline prediction performance (`roc_auc`) using `RandomForestClassifier` out-of-the box, just to get a sense of the performance that we should expect from the original dataset. This is to check the preliminary baseline that we should expect before we interfere with the features too much, in case we are eliminating the important variance throughout the process.\n",
    "\n",
    "In order to get a sense of a baseline unseen performance, we will split the training set into train and validation set. As a preliminary assessment, we will inspect the:\n",
    "\n",
    "- `roc_auc` on the train set\n",
    "- `roc_auc` on the val set\n",
    "- `feature_importance` of each feature"
   ]
  },
  {
   "cell_type": "code",
   "execution_count": 230,
   "metadata": {},
   "outputs": [],
   "source": [
    "prelim_clf, prelim_train_roc_auc, prelim_val_roc_auc, ft_importance_df = get_base_rf_auc_feature_importance(\n",
    "    train_df=train_df,\n",
    "    label_col=LABEL_COL,\n",
    "    feature_col_list=FEATURES_COL_LIST,\n",
    ")"
   ]
  },
  {
   "cell_type": "code",
   "execution_count": 231,
   "metadata": {},
   "outputs": [
    {
     "name": "stdout",
     "output_type": "stream",
     "text": [
      "Preliminary training ROC-AUC score: 0.884800\n",
      "Preliminary validation ROC-AUC score: 0.858181\n"
     ]
    },
    {
     "data": {
      "text/html": [
       "<div>\n",
       "<style scoped>\n",
       "    .dataframe tbody tr th:only-of-type {\n",
       "        vertical-align: middle;\n",
       "    }\n",
       "\n",
       "    .dataframe tbody tr th {\n",
       "        vertical-align: top;\n",
       "    }\n",
       "\n",
       "    .dataframe thead th {\n",
       "        text-align: right;\n",
       "    }\n",
       "</style>\n",
       "<table border=\"1\" class=\"dataframe\">\n",
       "  <thead>\n",
       "    <tr style=\"text-align: right;\">\n",
       "      <th></th>\n",
       "      <th>feature</th>\n",
       "      <th>rf_feature_importance</th>\n",
       "    </tr>\n",
       "  </thead>\n",
       "  <tbody>\n",
       "    <tr>\n",
       "      <th>6</th>\n",
       "      <td>NumberOfTimes90DaysLate</td>\n",
       "      <td>0.255980</td>\n",
       "    </tr>\n",
       "    <tr>\n",
       "      <th>0</th>\n",
       "      <td>RevolvingUtilizationOfUnsecuredLines</td>\n",
       "      <td>0.195674</td>\n",
       "    </tr>\n",
       "    <tr>\n",
       "      <th>8</th>\n",
       "      <td>NumberOfTime60-89DaysPastDueNotWorse</td>\n",
       "      <td>0.148485</td>\n",
       "    </tr>\n",
       "    <tr>\n",
       "      <th>2</th>\n",
       "      <td>NumberOfTime30-59DaysPastDueNotWorse</td>\n",
       "      <td>0.118372</td>\n",
       "    </tr>\n",
       "    <tr>\n",
       "      <th>3</th>\n",
       "      <td>DebtRatio</td>\n",
       "      <td>0.074603</td>\n",
       "    </tr>\n",
       "    <tr>\n",
       "      <th>4</th>\n",
       "      <td>MonthlyIncome</td>\n",
       "      <td>0.062262</td>\n",
       "    </tr>\n",
       "    <tr>\n",
       "      <th>1</th>\n",
       "      <td>age</td>\n",
       "      <td>0.055473</td>\n",
       "    </tr>\n",
       "    <tr>\n",
       "      <th>5</th>\n",
       "      <td>NumberOfOpenCreditLinesAndLoans</td>\n",
       "      <td>0.046001</td>\n",
       "    </tr>\n",
       "    <tr>\n",
       "      <th>7</th>\n",
       "      <td>NumberRealEstateLoansOrLines</td>\n",
       "      <td>0.022675</td>\n",
       "    </tr>\n",
       "    <tr>\n",
       "      <th>9</th>\n",
       "      <td>NumberOfDependents</td>\n",
       "      <td>0.020473</td>\n",
       "    </tr>\n",
       "  </tbody>\n",
       "</table>\n",
       "</div>"
      ],
      "text/plain": [
       "                                feature  rf_feature_importance\n",
       "6               NumberOfTimes90DaysLate               0.255980\n",
       "0  RevolvingUtilizationOfUnsecuredLines               0.195674\n",
       "8  NumberOfTime60-89DaysPastDueNotWorse               0.148485\n",
       "2  NumberOfTime30-59DaysPastDueNotWorse               0.118372\n",
       "3                             DebtRatio               0.074603\n",
       "4                         MonthlyIncome               0.062262\n",
       "1                                   age               0.055473\n",
       "5       NumberOfOpenCreditLinesAndLoans               0.046001\n",
       "7          NumberRealEstateLoansOrLines               0.022675\n",
       "9                    NumberOfDependents               0.020473"
      ]
     },
     "metadata": {},
     "output_type": "display_data"
    }
   ],
   "source": [
    "print(f\"Preliminary training ROC-AUC score: {prelim_train_roc_auc:.6f}\")\n",
    "print(f\"Preliminary validation ROC-AUC score: {prelim_val_roc_auc:.6f}\")\n",
    "display(ft_importance_df)"
   ]
  },
  {
   "cell_type": "markdown",
   "metadata": {},
   "source": [
    "From the preliminary model fitting, we can see that it managed to reach a very high `ROC-AUC` score in both training and validation set.\n",
    "\n",
    "This should serve as a guardrail for us when hand-engineering the features, to check if we have eliminated important variance in the dataset.\n",
    "\n",
    "From the sorted feature importance data, we can also see the features that can potentially be dropped if we encounter a dimensionality problem."
   ]
  },
  {
   "cell_type": "markdown",
   "metadata": {},
   "source": [
    "### Correlation analysis\n",
    "\n",
    "As another data point to aid us inspect the features, we will plot the:\n",
    "\n",
    "- Biserial correlation vs target variable (to check which features seems to be correlated with the target)\n",
    "- Correlation between the features (to check multi-collinearity to help us drop some features that are not needed)"
   ]
  },
  {
   "cell_type": "code",
   "execution_count": 232,
   "metadata": {},
   "outputs": [
    {
     "data": {
      "image/png": "[encoded data removed]",
      "text/plain": [
       "<Figure size 432x288 with 1 Axes>"
      ]
     },
     "metadata": {
      "needs_background": "light"
     },
     "output_type": "display_data"
    }
   ],
   "source": [
    "biserial_corr_df = get_biserial_correlation_stats(\n",
    "    train_df=train_df,\n",
    "    label_col=LABEL_COL,\n",
    "    feature_col_list=FEATURES_COL_LIST,\n",
    "    should_plot=True,\n",
    ")"
   ]
  },
  {
   "cell_type": "markdown",
   "metadata": {},
   "source": [
    "From the biserial correlation plot, it seems that:\n",
    "\n",
    "- `DebtRatio`\n",
    "- `NumberRealEstateLoansOrLines`\n",
    "- `RevolvingUtilizationOfUnsecuredLines`\n",
    "\n",
    "Has very little correlation with the target variable. `RevolvingUtilizationOfUnsecuredLines` has a high feature importance above so this might be contradictive, although this may change as we trim features that are very correlated with each other."
   ]
  },
  {
   "cell_type": "markdown",
   "metadata": {},
   "source": [
    "From the correlation plot, we can see that:\n",
    "\n",
    "- `NumberOfTime30-59DaysPastDueNotWorse`\n",
    "- `NumberOfTimes90DaysLate`\n",
    "- `NumberOfTime60-89DaysPastDueNotWorse`\n",
    "\n",
    "are very correlated with each other. We can keep this in mind and use a subset combinations of them should we need to experiment with dropping the features.\n"
   ]
  },
  {
   "cell_type": "code",
   "execution_count": 233,
   "metadata": {},
   "outputs": [
    {
     "data": {
      "image/png": "[encoded data removed]",
      "text/plain": [
       "<Figure size 432x288 with 2 Axes>"
      ]
     },
     "metadata": {
      "needs_background": "light"
     },
     "output_type": "display_data"
    }
   ],
   "source": [
    "corr_df = get_correlation_df(\n",
    "    train_df=train_df,\n",
    "    label_col=LABEL_COL,\n",
    "    feature_col_list=FEATURES_COL_LIST,\n",
    "    should_plot=True,\n",
    ")"
   ]
  },
  {
   "cell_type": "markdown",
   "metadata": {},
   "source": [
    "### Capping and Imputing Values\n",
    "\n",
    "From the EDA above, we can see that several columns has outlier values inside (very high values and values that are outside of the possible range).\n",
    "\n",
    "We will try to cap:\n",
    "- Ratio-based features at `1.0`\n",
    "- Non ratio features at `p99`\n",
    "\n",
    "And see if the model performance improves/deteriorates."
   ]
  },
  {
   "cell_type": "code",
   "execution_count": 234,
   "metadata": {},
   "outputs": [],
   "source": [
    "ratio_based_features = [\"RevolvingUtilizationOfUnsecuredLines\", \"DebtRatio\"]\n",
    "non_ratio_based_features = [col for col in FEATURES_COL_LIST if col not in ratio_based_features]"
   ]
  },
  {
   "cell_type": "code",
   "execution_count": 235,
   "metadata": {},
   "outputs": [],
   "source": [
    "cap_dict = get_cap_dict(\n",
    "    train_df=train_df,\n",
    "    ratio_cols=ratio_based_features,\n",
    "    non_ratio_cols=non_ratio_based_features,\n",
    "    percentile_for_cap=99.5,\n",
    ")\n",
    "\n",
    "capped_train_df = get_capped_df(\n",
    "    df=train_df,\n",
    "    cap_dict=cap_dict\n",
    ")\n"
   ]
  },
  {
   "cell_type": "code",
   "execution_count": 236,
   "metadata": {},
   "outputs": [
    {
     "name": "stdout",
     "output_type": "stream",
     "text": [
      "Preliminary training ROC-AUC score (capped features): 0.887607\n",
      "Preliminary validation ROC-AUC score (capped features): 0.858091\n"
     ]
    },
    {
     "data": {
      "text/html": [
       "<div>\n",
       "<style scoped>\n",
       "    .dataframe tbody tr th:only-of-type {\n",
       "        vertical-align: middle;\n",
       "    }\n",
       "\n",
       "    .dataframe tbody tr th {\n",
       "        vertical-align: top;\n",
       "    }\n",
       "\n",
       "    .dataframe thead th {\n",
       "        text-align: right;\n",
       "    }\n",
       "</style>\n",
       "<table border=\"1\" class=\"dataframe\">\n",
       "  <thead>\n",
       "    <tr style=\"text-align: right;\">\n",
       "      <th></th>\n",
       "      <th>feature</th>\n",
       "      <th>rf_feature_importance</th>\n",
       "    </tr>\n",
       "  </thead>\n",
       "  <tbody>\n",
       "    <tr>\n",
       "      <th>6</th>\n",
       "      <td>NumberOfTimes90DaysLate</td>\n",
       "      <td>0.255980</td>\n",
       "    </tr>\n",
       "    <tr>\n",
       "      <th>0</th>\n",
       "      <td>RevolvingUtilizationOfUnsecuredLines</td>\n",
       "      <td>0.195674</td>\n",
       "    </tr>\n",
       "    <tr>\n",
       "      <th>8</th>\n",
       "      <td>NumberOfTime60-89DaysPastDueNotWorse</td>\n",
       "      <td>0.148485</td>\n",
       "    </tr>\n",
       "    <tr>\n",
       "      <th>2</th>\n",
       "      <td>NumberOfTime30-59DaysPastDueNotWorse</td>\n",
       "      <td>0.118372</td>\n",
       "    </tr>\n",
       "    <tr>\n",
       "      <th>3</th>\n",
       "      <td>DebtRatio</td>\n",
       "      <td>0.074603</td>\n",
       "    </tr>\n",
       "    <tr>\n",
       "      <th>4</th>\n",
       "      <td>MonthlyIncome</td>\n",
       "      <td>0.062262</td>\n",
       "    </tr>\n",
       "    <tr>\n",
       "      <th>1</th>\n",
       "      <td>age</td>\n",
       "      <td>0.055473</td>\n",
       "    </tr>\n",
       "    <tr>\n",
       "      <th>5</th>\n",
       "      <td>NumberOfOpenCreditLinesAndLoans</td>\n",
       "      <td>0.046001</td>\n",
       "    </tr>\n",
       "    <tr>\n",
       "      <th>7</th>\n",
       "      <td>NumberRealEstateLoansOrLines</td>\n",
       "      <td>0.022675</td>\n",
       "    </tr>\n",
       "    <tr>\n",
       "      <th>9</th>\n",
       "      <td>NumberOfDependents</td>\n",
       "      <td>0.020473</td>\n",
       "    </tr>\n",
       "  </tbody>\n",
       "</table>\n",
       "</div>"
      ],
      "text/plain": [
       "                                feature  rf_feature_importance\n",
       "6               NumberOfTimes90DaysLate               0.255980\n",
       "0  RevolvingUtilizationOfUnsecuredLines               0.195674\n",
       "8  NumberOfTime60-89DaysPastDueNotWorse               0.148485\n",
       "2  NumberOfTime30-59DaysPastDueNotWorse               0.118372\n",
       "3                             DebtRatio               0.074603\n",
       "4                         MonthlyIncome               0.062262\n",
       "1                                   age               0.055473\n",
       "5       NumberOfOpenCreditLinesAndLoans               0.046001\n",
       "7          NumberRealEstateLoansOrLines               0.022675\n",
       "9                    NumberOfDependents               0.020473"
      ]
     },
     "metadata": {},
     "output_type": "display_data"
    },
    {
     "name": "stdout",
     "output_type": "stream",
     "text": [
      "{'RevolvingUtilizationOfUnsecuredLines': 1.0, 'DebtRatio': 1.0, 'age': 89.0, 'NumberOfTime30-59DaysPastDueNotWorse': 5.0, 'MonthlyIncome': 35000.0, 'NumberOfOpenCreditLinesAndLoans': 27.0, 'NumberOfTimes90DaysLate': 4.0, 'NumberRealEstateLoansOrLines': 6.0, 'NumberOfTime60-89DaysPastDueNotWorse': 3.0, 'NumberOfDependents': 5.0}\n"
     ]
    }
   ],
   "source": [
    "capped_prelim_clf, capped_prelim_train_roc_auc, capped_prelim_val_roc_auc, capped_ft_importance_df = get_base_rf_auc_feature_importance(\n",
    "    train_df=capped_train_df,\n",
    "    label_col=LABEL_COL,\n",
    "    feature_col_list=FEATURES_COL_LIST,\n",
    ")\n",
    "\n",
    "print(f\"Preliminary training ROC-AUC score (capped features): {capped_prelim_train_roc_auc:.6f}\")\n",
    "print(f\"Preliminary validation ROC-AUC score (capped features): {capped_prelim_val_roc_auc:.6f}\")\n",
    "display(ft_importance_df)\n",
    "print(cap_dict)"
   ]
  },
  {
   "cell_type": "markdown",
   "metadata": {},
   "source": [
    "After capping, we still have a similar training and validation ROC-AUC as before. The capped values will make more sense as well in terms of the actual meaning, especially for the ratio-based features.\n",
    "\n",
    "Next, we will deal with imputing the missing columns:\n",
    "\n",
    "- `MonthlyIncome`\n",
    "- `NumberOfDependents`\n",
    "\n",
    "We have several alternatives:\n",
    "\n",
    "- Imputing based on summary statistics (Mean, Median, Mode, etc)\n",
    "- Predicting the value based on other columns (Regression in both cases)\n"
   ]
  },
  {
   "cell_type": "code",
   "execution_count": 237,
   "metadata": {},
   "outputs": [],
   "source": [
    "def get_imputer_and_imputed_df_simple(\n",
    "    impute_strategy: str,\n",
    "    original_df: pd.DataFrame,\n",
    "    label_col: str,\n",
    "):\n",
    "    assert impute_strategy in (\"mean\", \"most_frequent\", \"median\"), \"impute_strategy must be one of 'mean', 'most_frequent', or 'median'\"\n",
    "    \n",
    "    imputer = SimpleImputer(strategy=impute_strategy)\n",
    "    imputer.fit(original_df.dropna(subset=[label_col]))\n",
    "\n",
    "    imputed_df = pd.DataFrame(columns=original_df.columns, data=imputer.transform(original_df))\n",
    "\n",
    "    return imputer, imputed_df\n",
    "\n",
    "\n",
    "def get_imputer_and_imputed_df_regressor(\n",
    "    regressor_class,\n",
    "    regressor_kwargs: dict,\n",
    "    cols_to_impute_via_regression: List[str],\n",
    "    cols_dtype: List,\n",
    "    original_df: pd.DataFrame,\n",
    "    feature_cols_list: List[str],\n",
    "):\n",
    "\n",
    "    imputer_dict = {}\n",
    "\n",
    "    imputed_df = original_df.copy(deep=True)\n",
    "\n",
    "    for idx, col in enumerate(cols_to_impute_via_regression):\n",
    "        \n",
    "        regressor = regressor_class(**regressor_kwargs)\n",
    "\n",
    "        regressor_impute_train_df = original_df.copy(deep=True)\n",
    "        regressor_impute_train_df = regressor_impute_train_df.dropna()\n",
    "        regressor_impute_feature_cols = [col for col in feature_cols_list if col not in cols_to_impute_via_regression]\n",
    "\n",
    "        X = regressor_impute_train_df[regressor_impute_feature_cols]\n",
    "        y = regressor_impute_train_df[col]\n",
    "\n",
    "        regressor.fit(X, y)\n",
    "\n",
    "        y_pred = regressor.predict(X)\n",
    "\n",
    "        rmse = np.sqrt(mean_squared_error(y, y_pred))\n",
    "\n",
    "        # In case need to cast to int, for example for number_of_dependents\n",
    "        predicted_col = regressor.predict(imputed_df[regressor_impute_feature_cols])\n",
    "        predicted_col = predicted_col.astype(cols_dtype[idx])\n",
    "\n",
    "        imputed_df[col] = np.where(\n",
    "            pd.isnull(imputed_df[col]), predicted_col, imputed_df[col]\n",
    "        )\n",
    "\n",
    "        imputer_dict[col] = {\n",
    "            \"regressor\" : regressor,\n",
    "            \"feature_cols\"  : regressor_impute_feature_cols,\n",
    "            \"rmse\" : rmse,\n",
    "        }\n",
    "    \n",
    "    return imputer_dict, imputed_df"
   ]
  },
  {
   "cell_type": "code",
   "execution_count": 238,
   "metadata": {},
   "outputs": [],
   "source": [
    "mean_imputer, mean_imputed_df = get_imputer_and_imputed_df_simple(\n",
    "    impute_strategy=\"mean\",\n",
    "    original_df=train_df,\n",
    "    label_col=LABEL_COL,\n",
    ")\n",
    "\n",
    "median_imputer, median_imputed_df = get_imputer_and_imputed_df_simple(\n",
    "    impute_strategy=\"median\",\n",
    "    original_df=train_df,\n",
    "    label_col=LABEL_COL,\n",
    ")\n",
    "\n",
    "mode_imputer, mode_imputed_df = get_imputer_and_imputed_df_simple(\n",
    "    impute_strategy=\"most_frequent\",\n",
    "    original_df=train_df,\n",
    "    label_col=LABEL_COL,\n",
    ")\n",
    "\n",
    "regression_imputer_dict, regression_imputed_df = get_imputer_and_imputed_df_regressor(\n",
    "    RandomForestRegressor,\n",
    "    regressor_kwargs={\"max_depth\" : 10},\n",
    "    cols_to_impute_via_regression=[\"MonthlyIncome\", \"NumberOfDependents\"],\n",
    "    cols_dtype=[np.float32, np.int32],\n",
    "    original_df=train_df,\n",
    "    feature_cols_list=FEATURES_COL_LIST,\n",
    ")"
   ]
  },
  {
   "cell_type": "code",
   "execution_count": 239,
   "metadata": {},
   "outputs": [
    {
     "name": "stdout",
     "output_type": "stream",
     "text": [
      "Preliminary training ROC-AUC score (mean imputation): 0.892214\n",
      "Preliminary validation ROC-AUC score (mean imputation): 0.870589\n",
      "\n",
      "Preliminary training ROC-AUC score (median imputation): 0.890728\n",
      "Preliminary validation ROC-AUC score (median imputation): 0.869958\n",
      "\n",
      "Preliminary training ROC-AUC score (mode imputation): 0.891033\n",
      "Preliminary validation ROC-AUC score (mode imputation): 0.870191\n",
      "\n",
      "Preliminary training ROC-AUC score (regression imputation): 0.892090\n",
      "Preliminary validation ROC-AUC score (regression imputation): 0.869983\n",
      "\n"
     ]
    }
   ],
   "source": [
    "impute_eval_dict = {\n",
    "    \"mean\" : mean_imputed_df,\n",
    "    \"median\" : median_imputed_df,\n",
    "    \"mode\" : mode_imputed_df,\n",
    "    \"regression\" : regression_imputed_df,\n",
    "}\n",
    "\n",
    "for method, method_df in impute_eval_dict.items():\n",
    "\n",
    "    method_cap_dict = get_cap_dict(method_df, ratio_cols=ratio_based_features, non_ratio_cols=non_ratio_based_features)\n",
    "\n",
    "    capped_method_df = get_capped_df(method_df, method_cap_dict)\n",
    "\n",
    "    method_clf, method_train_roc_auc, method_val_roc_auc, method_ft_importance_df = get_base_rf_auc_feature_importance(\n",
    "        train_df=capped_method_df, \n",
    "        label_col=LABEL_COL,\n",
    "        feature_col_list=FEATURES_COL_LIST,\n",
    "    )\n",
    "    print(f\"Preliminary training ROC-AUC score ({method} imputation): {method_train_roc_auc:.6f}\")\n",
    "    print(f\"Preliminary validation ROC-AUC score ({method} imputation): {method_val_roc_auc:.6f}\\n\")"
   ]
  },
  {
   "cell_type": "markdown",
   "metadata": {},
   "source": [
    "Here, we see that all imputation methods produce a relatively high score and hence can be considered. However, given that the simple imputation methods are much faster and smaller, it should be preferred in the setting when we are serving the decision in a deployed system, however in a kaggle-like setting, we can consider the regressor-based imputations if that helps us to achieve a higher leaderboard score."
   ]
  },
  {
   "cell_type": "markdown",
   "metadata": {},
   "source": [
    "### Modeling\n",
    "\n",
    "We have prepared the features, and in the next step we will evaluate various classification algorithms:\n",
    "\n",
    "- `LogisticRegression`\n",
    "- `DecisionTreeClassifier`\n",
    "- `RandomForestClassifier`\n",
    "- `LGBMClassifier`\n",
    "- `XGBClassifier`\n",
    "- Ensemble of all the above\n",
    "\n",
    "that varies in both explainability and predictive power. First we will compare the algorithms without any tuning (only imposing the `max_depth` for tree-based classifiers to prevent degenerate overfitting), and compare the performance in terms of:\n",
    "\n",
    "- Training time\n",
    "- Training set query time\n",
    "- Training set roc_auc\n",
    "- Validation set roc_auc\n",
    "\n",
    "To help us make more informed decision about which model to use, before we do hyperparameter tuning.\n",
    "\n",
    "In order to achieve an apple-to-apple comparison, we will use the same `mean` simple imputation strategy for all variants."
   ]
  },
  {
   "cell_type": "code",
   "execution_count": 240,
   "metadata": {},
   "outputs": [],
   "source": [
    "data_idx = np.arange(len(train_df))\n",
    "train_size = int((1 - VAL_SIZE) * len(train_df))\n",
    "train_idx_num = np.random.choice(data_idx, size=train_size, replace=False)\n",
    "\n",
    "train_idx = np.isin(data_idx, train_idx_num)\n",
    "\n",
    "train_train_df = train_df[train_idx]\n",
    "train_val_df = train_df[~train_idx]"
   ]
  },
  {
   "cell_type": "code",
   "execution_count": 241,
   "metadata": {},
   "outputs": [],
   "source": [
    "train_mean_imputer, train_mean_imputed_df = get_imputer_and_imputed_df_simple(\n",
    "    impute_strategy=\"mean\",\n",
    "    original_df=train_train_df,\n",
    "    label_col=LABEL_COL,\n",
    ")\n",
    "\n",
    "train_cap_dict = get_cap_dict(\n",
    "    train_df=train_mean_imputed_df,\n",
    "    ratio_cols=ratio_based_features,\n",
    "    non_ratio_cols=non_ratio_based_features,\n",
    ")\n",
    "\n",
    "train_imputed_capped_df = get_capped_df(\n",
    "    df=train_mean_imputed_df,\n",
    "    cap_dict=train_cap_dict,\n",
    ")\n",
    "\n",
    "val_mean_imputed_df = pd.DataFrame(columns=train_val_df.columns, data=train_mean_imputer.transform(train_val_df))\n",
    "\n",
    "val_imputed_capped_df = get_capped_df(\n",
    "    df=val_mean_imputed_df,\n",
    "    cap_dict=train_cap_dict\n",
    ")\n",
    "\n",
    "test_mean_imputed_df = pd.DataFrame(columns=test_df.columns, data=train_mean_imputer.transform(test_df))\n",
    "\n",
    "test_imputed_capped_df = get_capped_df(\n",
    "    df=test_mean_imputed_df,\n",
    "    cap_dict=train_cap_dict,\n",
    ")"
   ]
  },
  {
   "cell_type": "code",
   "execution_count": 242,
   "metadata": {},
   "outputs": [],
   "source": [
    "X_train = train_imputed_capped_df[FEATURES_COL_LIST]\n",
    "y_train = train_imputed_capped_df[LABEL_COL].astype(int)\n",
    "\n",
    "X_val = val_imputed_capped_df[FEATURES_COL_LIST]\n",
    "y_val = val_imputed_capped_df[LABEL_COL].astype(int)\n",
    "\n",
    "X_test = test_imputed_capped_df[FEATURES_COL_LIST]\n",
    "y_test = test_imputed_capped_df[LABEL_COL].astype(int)"
   ]
  },
  {
   "cell_type": "code",
   "execution_count": 243,
   "metadata": {},
   "outputs": [],
   "source": [
    "def train_and_val_clf(\n",
    "    clf_class,\n",
    "    X_train,\n",
    "    y_train,\n",
    "    X_val,\n",
    "    y_val,\n",
    "    clf_kwargs = dict(),\n",
    "):\n",
    "    clf = clf_class(**clf_kwargs)\n",
    "    train_start_time = time.time()\n",
    "    clf.fit(X_train, y_train)\n",
    "    training_time = np.round(time.time() - train_start_time, 2)\n",
    "\n",
    "    train_query_start_time = time.time()\n",
    "    y_train_pred = clf.predict_proba(X_train)[:, 1]\n",
    "    train_query_time = np.round(time.time() - train_query_start_time, 2)\n",
    "\n",
    "    y_val_pred = clf.predict_proba(X_val)[:, 1]\n",
    "\n",
    "    train_roc_auc = roc_auc_score(y_train, y_train_pred)\n",
    "    val_roc_auc = roc_auc_score(y_val, y_val_pred)\n",
    "\n",
    "    return clf, training_time, train_query_time, train_roc_auc, val_roc_auc\n",
    "\n",
    "def ensemble_predict_proba(\n",
    "    model_clf_dict: dict,\n",
    "    X: pd.DataFrame,\n",
    "):\n",
    "    pred = pd.DataFrame(index=X.index)\n",
    "    pred[\"Probability\"] = np.zeros(len(X))\n",
    "\n",
    "    for modelname, clf in model_clf_dict.items():\n",
    "        pred[\"Probability\"] += clf.predict_proba(X)[:, 1]\n",
    "    \n",
    "    pred[\"Probability\"] /= len(model_clf_dict)\n",
    "\n",
    "    return pred"
   ]
  },
  {
   "cell_type": "code",
   "execution_count": 244,
   "metadata": {},
   "outputs": [
    {
     "name": "stderr",
     "output_type": "stream",
     "text": [
      "/usr/local/lib/python3.9/site-packages/xgboost/sklearn.py:1224: UserWarning: The use of label encoder in XGBClassifier is deprecated and will be removed in a future release. To remove this warning, do the following: 1) Pass option use_label_encoder=False when constructing XGBClassifier object; and 2) Encode your labels (y) as integers starting with 0, i.e. 0, 1, 2, ..., [num_class - 1].\n",
      "  warnings.warn(label_encoder_deprecation_msg, UserWarning)\n",
      "/usr/local/lib/python3.9/site-packages/xgboost/data.py:262: FutureWarning: pandas.Int64Index is deprecated and will be removed from pandas in a future version. Use pandas.Index with the appropriate dtype instead.\n",
      "  elif isinstance(data.columns, (pd.Int64Index, pd.RangeIndex)):\n"
     ]
    },
    {
     "name": "stdout",
     "output_type": "stream",
     "text": [
      "[15:21:09] WARNING: /workspace/src/learner.cc:576: \n",
      "Parameters: { \"label_encoder\" } might not be used.\n",
      "\n",
      "  This could be a false alarm, with some parameters getting used by language bindings but\n",
      "  then being mistakenly passed down to XGBoost core, or some parameter actually being used\n",
      "  but getting flagged wrongly here. Please open an issue if you find any such cases.\n",
      "\n",
      "\n"
     ]
    }
   ],
   "source": [
    "tree_max_depth = int(len(FEATURES_COL_LIST) / 2)\n",
    "\n",
    "model_eval_dict = {\n",
    "    \"LogisticRegression\" : [LogisticRegression, {\"class_weight\" : \"balanced\", \"max_iter\" : 500}],\n",
    "    \"DecisionTreeClassifier\" : [DecisionTreeClassifier, {\"max_depth\" : tree_max_depth}],\n",
    "    \"RandomForestClassifier\" : [RandomForestClassifier, {\"max_depth\" : tree_max_depth, \"n_estimators\" : 100}],\n",
    "    \"LGBMClassifier\" : [LGBMClassifier, {\"max_depth\" : tree_max_depth, \"n_estimators\" : 100}],\n",
    "    \"XGBClassifier\" : [XGBClassifier, {\"max_depth\" : tree_max_depth, \"n_estimators\" : 100, \"label_encoder\" : False, \"eval_metric\" : \"logloss\"}]\n",
    "}\n",
    "\n",
    "\n",
    "model_performance_dict = {\n",
    "    \"ModelName\" : [],\n",
    "    \"TrainingTime\" : [],\n",
    "    \"TrainQueryTime\" : [],\n",
    "    \"TrainROC-AUC\" : [],\n",
    "    \"ValROC-AUC\" : [],\n",
    "}\n",
    "\n",
    "model_clf_dict = {}\n",
    "\n",
    "for model_name, (model_class, model_kwargs) in model_eval_dict.items():\n",
    "    (\n",
    "        clf, \n",
    "        training_time, \n",
    "        train_query_time, \n",
    "        train_roc_auc, \n",
    "        val_roc_auc, \n",
    "    ) = train_and_val_clf(\n",
    "        clf_class=model_class,\n",
    "        X_train=X_train,\n",
    "        y_train=y_train,\n",
    "        X_val=X_val,\n",
    "        y_val=y_val,\n",
    "        clf_kwargs=model_kwargs,\n",
    "    )\n",
    "\n",
    "    model_performance_dict[\"ModelName\"].append(model_name)\n",
    "    model_performance_dict[\"TrainingTime\"].append(training_time)\n",
    "    model_performance_dict[\"TrainQueryTime\"].append(train_query_time)\n",
    "    model_performance_dict[\"TrainROC-AUC\"].append(train_roc_auc)\n",
    "    model_performance_dict[\"ValROC-AUC\"].append(val_roc_auc)\n",
    "    \n",
    "    model_clf_dict[model_name] = clf\n",
    "\n",
    "model_performance_df = pd.DataFrame(model_performance_dict)"
   ]
  },
  {
   "cell_type": "code",
   "execution_count": 245,
   "metadata": {},
   "outputs": [
    {
     "data": {
      "text/html": [
       "<div>\n",
       "<style scoped>\n",
       "    .dataframe tbody tr th:only-of-type {\n",
       "        vertical-align: middle;\n",
       "    }\n",
       "\n",
       "    .dataframe tbody tr th {\n",
       "        vertical-align: top;\n",
       "    }\n",
       "\n",
       "    .dataframe thead th {\n",
       "        text-align: right;\n",
       "    }\n",
       "</style>\n",
       "<table border=\"1\" class=\"dataframe\">\n",
       "  <thead>\n",
       "    <tr style=\"text-align: right;\">\n",
       "      <th></th>\n",
       "      <th>ModelName</th>\n",
       "      <th>TrainingTime</th>\n",
       "      <th>TrainQueryTime</th>\n",
       "      <th>TrainROC-AUC</th>\n",
       "      <th>ValROC-AUC</th>\n",
       "    </tr>\n",
       "  </thead>\n",
       "  <tbody>\n",
       "    <tr>\n",
       "      <th>0</th>\n",
       "      <td>LogisticRegression</td>\n",
       "      <td>0.58</td>\n",
       "      <td>0.00</td>\n",
       "      <td>0.852714</td>\n",
       "      <td>0.854784</td>\n",
       "    </tr>\n",
       "    <tr>\n",
       "      <th>1</th>\n",
       "      <td>DecisionTreeClassifier</td>\n",
       "      <td>0.17</td>\n",
       "      <td>0.01</td>\n",
       "      <td>0.845010</td>\n",
       "      <td>0.846821</td>\n",
       "    </tr>\n",
       "    <tr>\n",
       "      <th>2</th>\n",
       "      <td>RandomForestClassifier</td>\n",
       "      <td>3.91</td>\n",
       "      <td>0.41</td>\n",
       "      <td>0.860502</td>\n",
       "      <td>0.861584</td>\n",
       "    </tr>\n",
       "    <tr>\n",
       "      <th>3</th>\n",
       "      <td>LGBMClassifier</td>\n",
       "      <td>0.22</td>\n",
       "      <td>0.08</td>\n",
       "      <td>0.881667</td>\n",
       "      <td>0.868580</td>\n",
       "    </tr>\n",
       "    <tr>\n",
       "      <th>4</th>\n",
       "      <td>XGBClassifier</td>\n",
       "      <td>1.63</td>\n",
       "      <td>0.03</td>\n",
       "      <td>0.900680</td>\n",
       "      <td>0.865013</td>\n",
       "    </tr>\n",
       "  </tbody>\n",
       "</table>\n",
       "</div>"
      ],
      "text/plain": [
       "                ModelName  TrainingTime  TrainQueryTime  TrainROC-AUC  \\\n",
       "0      LogisticRegression          0.58            0.00      0.852714   \n",
       "1  DecisionTreeClassifier          0.17            0.01      0.845010   \n",
       "2  RandomForestClassifier          3.91            0.41      0.860502   \n",
       "3          LGBMClassifier          0.22            0.08      0.881667   \n",
       "4           XGBClassifier          1.63            0.03      0.900680   \n",
       "\n",
       "   ValROC-AUC  \n",
       "0    0.854784  \n",
       "1    0.846821  \n",
       "2    0.861584  \n",
       "3    0.868580  \n",
       "4    0.865013  "
      ]
     },
     "execution_count": 245,
     "metadata": {},
     "output_type": "execute_result"
    }
   ],
   "source": [
    "model_performance_df"
   ]
  },
  {
   "cell_type": "code",
   "execution_count": 246,
   "metadata": {},
   "outputs": [
    {
     "name": "stderr",
     "output_type": "stream",
     "text": [
      "/usr/local/lib/python3.9/site-packages/xgboost/data.py:262: FutureWarning: pandas.Int64Index is deprecated and will be removed from pandas in a future version. Use pandas.Index with the appropriate dtype instead.\n",
      "  elif isinstance(data.columns, (pd.Int64Index, pd.RangeIndex)):\n",
      "/usr/local/lib/python3.9/site-packages/xgboost/data.py:262: FutureWarning: pandas.Int64Index is deprecated and will be removed from pandas in a future version. Use pandas.Index with the appropriate dtype instead.\n",
      "  elif isinstance(data.columns, (pd.Int64Index, pd.RangeIndex)):\n"
     ]
    }
   ],
   "source": [
    "ensemble_y_train_pred = ensemble_predict_proba(model_clf_dict, X_train)\n",
    "ensemble_y_val_pred = ensemble_predict_proba(model_clf_dict, X_val)\n",
    "\n",
    "ensemble_train_rocauc = roc_auc_score(y_train, ensemble_y_train_pred)\n",
    "ensemble_val_rocauc = roc_auc_score(y_val, ensemble_y_val_pred)"
   ]
  },
  {
   "cell_type": "code",
   "execution_count": 247,
   "metadata": {},
   "outputs": [
    {
     "data": {
      "text/plain": [
       "0.8730772992607503"
      ]
     },
     "execution_count": 247,
     "metadata": {},
     "output_type": "execute_result"
    }
   ],
   "source": [
    "ensemble_train_rocauc"
   ]
  },
  {
   "cell_type": "code",
   "execution_count": 248,
   "metadata": {},
   "outputs": [
    {
     "data": {
      "text/plain": [
       "0.8643643993900324"
      ]
     },
     "execution_count": 248,
     "metadata": {},
     "output_type": "execute_result"
    }
   ],
   "source": [
    "ensemble_val_rocauc"
   ]
  },
  {
   "cell_type": "code",
   "execution_count": 250,
   "metadata": {},
   "outputs": [
    {
     "name": "stderr",
     "output_type": "stream",
     "text": [
      "/usr/local/lib/python3.9/site-packages/xgboost/data.py:262: FutureWarning: pandas.Int64Index is deprecated and will be removed from pandas in a future version. Use pandas.Index with the appropriate dtype instead.\n",
      "  elif isinstance(data.columns, (pd.Int64Index, pd.RangeIndex)):\n"
     ]
    }
   ],
   "source": [
    "test_id = test_df[[\"id\"]]\n",
    "\n",
    "test_proba = ensemble_predict_proba(\n",
    "    model_clf_dict=model_clf_dict,\n",
    "    X=X_test\n",
    ")"
   ]
  },
  {
   "cell_type": "code",
   "execution_count": 252,
   "metadata": {},
   "outputs": [],
   "source": [
    "test_id.join(test_proba).to_csv(\"submission.csv\", index=False)"
   ]
  }
 ],
 "metadata": {
  "interpreter": {
   "hash": "949777d72b0d2535278d3dc13498b2535136f6dfe0678499012e853ee9abcab1"
  },
  "kernelspec": {
   "display_name": "Python 3.9.7 64-bit",
   "language": "python",
   "name": "python3"
  },
  "language_info": {
   "codemirror_mode": {
    "name": "ipython",
    "version": 3
   },
   "file_extension": ".py",
   "mimetype": "text/x-python",
   "name": "python",
   "nbconvert_exporter": "python",
   "pygments_lexer": "ipython3",
   "version": "3.9.7"
  },
  "orig_nbformat": 4
 },
 "nbformat": 4,
 "nbformat_minor": 2
}
